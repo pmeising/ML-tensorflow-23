{
  "cells": [
    {
      "cell_type": "markdown",
      "metadata": {
        "id": "gjz21-d3k4je"
      },
      "source": [
        "# Statistical Analysis"
      ]
    },
    {
      "cell_type": "code",
      "execution_count": 9,
      "metadata": {
        "id": "gqWjq9UnqNj6"
      },
      "outputs": [],
      "source": [
        "from google.colab import files, drive\n",
        "import zipfile\n",
        "import shutil\n",
        "import os\n",
        "import numpy as np\n",
        "import tensorflow as tf\n",
        "from sklearn.model_selection import train_test_split\n",
        "from tensorflow.keras.models import load_model\n",
        "from tensorflow.keras.preprocessing.image import ImageDataGenerator\n",
        "from tensorflow.keras import layers, models\n",
        "from tensorflow.keras.layers import Dense, Activation, Flatten, MaxPooling2D, Conv2D\n",
        "import matplotlib.pyplot as plt\n",
        "from sklearn.metrics import confusion_matrix\n",
        "from sklearn.metrics import classification_report\n",
        "import seaborn as sns\n",
        "from tensorflow.keras.applications import MobileNetV2\n",
        "from collections import Counter\n",
        "import random\n",
        "from matplotlib.backends.backend_pdf import PdfPages\n",
        "import glob\n",
        "import nbformat as nbf\n",
        "from nbformat.v4 import new_markdown_cell, new_code_cell, new_output\n",
        "import json\n",
        "from scipy.stats import skew, kurtosis"
      ]
    },
    {
      "cell_type": "code",
      "execution_count": 2,
      "metadata": {
        "colab": {
          "base_uri": "https://localhost:8080/"
        },
        "id": "OKd5KFnqF2aO",
        "outputId": "4b23f052-efa6-4837-9de3-06648d9fa765"
      },
      "outputs": [
        {
          "name": "stdout",
          "output_type": "stream",
          "text": [
            "Mounted at /content/drive\n"
          ]
        }
      ],
      "source": [
        "drive.mount('/content/drive')\n",
        "\n",
        "# Path to the zip file in Google Drive\n",
        "zip_file_path = '/content/drive/MyDrive/ML_Tensorflow/phytoplankton_labeled.zip'\n",
        "\n",
        "with zipfile.ZipFile(zip_file_path, 'r') as zip_ref:\n",
        "    zip_ref.extractall('/content/dataset')\n",
        "\n",
        "data_dir = '/content/dataset/labeled_20201020'\n",
        "\n",
        "base_dir = '/content/dataset'"
      ]
    },
    {
      "cell_type": "code",
      "execution_count": 4,
      "metadata": {
        "colab": {
          "base_uri": "https://localhost:8080/"
        },
        "id": "W2Swak8WtC2S",
        "outputId": "d313c7e1-2f6f-4523-8c71-4af66258423a"
      },
      "outputs": [
        {
          "name": "stdout",
          "output_type": "stream",
          "text": [
            "Total number of samples: 63074\n",
            "Total number of classes: 50\n",
            "Mean number of samples per class: 1261.48\n",
            "Median number of samples per class: 269.5\n",
            "Mode number of samples per class: 102\n",
            "Standard deviation of samples per class: 2246.96\n",
            "Minimum number of samples per class: 19\n",
            "Maximum number of samples per class: 12280\n"
          ]
        }
      ],
      "source": [
        "# Initialize variables to store statistics\n",
        "total_samples = 0\n",
        "class_counts = []\n",
        "\n",
        "# Iterate over subdirectories\n",
        "for subdir in os.listdir(data_dir):\n",
        "    # Count number of samples in each class\n",
        "    class_path = os.path.join(data_dir, subdir)\n",
        "    num_samples = len(os.listdir(class_path))\n",
        "\n",
        "    # Update total number of samples\n",
        "    total_samples += num_samples\n",
        "\n",
        "    # Store class count\n",
        "    class_counts.append(num_samples)\n",
        "\n",
        "# Convert class counts to numpy array for easier computation\n",
        "class_counts = np.array(class_counts)\n",
        "\n",
        "# Calculate mean, median, mode, standard deviation, min, and max\n",
        "mean_samples_per_class = np.mean(class_counts)\n",
        "median_samples_per_class = np.median(class_counts)\n",
        "mode_samples_per_class = np.argmax(np.bincount(class_counts))\n",
        "std_dev_samples_per_class = np.std(class_counts)\n",
        "min_samples_per_class = np.min(class_counts)\n",
        "max_samples_per_class = np.max(class_counts)\n",
        "\n",
        "# Print statistics\n",
        "print(f\"Total number of samples: {total_samples}\")\n",
        "print(f\"Total number of classes: {len(class_counts)}\")\n",
        "print(f\"Mean number of samples per class: {mean_samples_per_class:.2f}\")\n",
        "print(f\"Median number of samples per class: {median_samples_per_class}\")\n",
        "print(f\"Mode number of samples per class: {mode_samples_per_class}\")\n",
        "print(f\"Standard deviation of samples per class: {std_dev_samples_per_class:.2f}\")\n",
        "print(f\"Minimum number of samples per class: {min_samples_per_class}\")\n",
        "print(f\"Maximum number of samples per class: {max_samples_per_class}\")"
      ]
    },
    {
      "cell_type": "code",
      "execution_count": 5,
      "metadata": {
        "colab": {
          "base_uri": "https://localhost:8080/"
        },
        "id": "SmzI74SOuCND",
        "outputId": "5b9a2378-ee86-4106-ec5e-34d3feecce66"
      },
      "outputs": [
        {
          "name": "stdout",
          "output_type": "stream",
          "text": [
            "Skewness of class counts: 3.05\n",
            "Kurtosis of class counts: 10.36\n",
            "25th percentile: 106.25\n",
            "50th percentile (median): 269.5\n",
            "75th percentile: 1201.0\n",
            "Interquartile Range (IQR): 1094.75\n"
          ]
        }
      ],
      "source": [
        "data_dir = '/content/dataset/labeled_20201020'\n",
        "\n",
        "# Initialize variables to store statistics\n",
        "class_counts = []\n",
        "\n",
        "# Iterate over subdirectories\n",
        "for subdir in os.listdir(data_dir):\n",
        "    # Count number of samples in each class\n",
        "    class_path = os.path.join(data_dir, subdir)\n",
        "    num_samples = len(os.listdir(class_path))\n",
        "\n",
        "    # Store class count\n",
        "    class_counts.append(num_samples)\n",
        "\n",
        "# Convert class counts to numpy array for easier computation\n",
        "class_counts = np.array(class_counts)\n",
        "\n",
        "# Calculate skewness and kurtosis\n",
        "skewness = skew(class_counts)\n",
        "kurt = kurtosis(class_counts)\n",
        "\n",
        "# Calculate quantiles\n",
        "quantiles = np.percentile(class_counts, [25, 50, 75])\n",
        "\n",
        "# Calculate interquartile range (IQR)\n",
        "IQR = quantiles[2] - quantiles[0]\n",
        "\n",
        "# Print the statistics\n",
        "print(f\"Skewness of class counts: {skewness:.2f}\")\n",
        "print(f\"Kurtosis of class counts: {kurt:.2f}\")\n",
        "print(f\"25th percentile: {quantiles[0]}\")\n",
        "print(f\"50th percentile (median): {quantiles[1]}\")\n",
        "print(f\"75th percentile: {quantiles[2]}\")\n",
        "print(f\"Interquartile Range (IQR): {IQR}\")\n"
      ]
    },
    {
      "cell_type": "code",
      "execution_count": 8,
      "metadata": {
        "colab": {
          "base_uri": "https://localhost:8080/",
          "height": 564
        },
        "id": "LUhyhSBBusUy",
        "outputId": "3d6b7194-31f5-4163-9c6f-f05d63cb3b6a"
      },
      "outputs": [
        {
          "data": {
            "image/png": "[encoded data removed]",
            "text/plain": [
              "<Figure size 800x600 with 1 Axes>"
            ]
          },
          "metadata": {},
          "output_type": "display_data"
        }
      ],
      "source": [
        "# Create a boxplot\n",
        "plt.figure(figsize=(8, 6))\n",
        "plt.boxplot(class_counts, vert=False)\n",
        "plt.title('Distribution of Sample Counts for Selected Classes')\n",
        "plt.xlabel('Number of Samples')\n",
        "plt.yticks([1], ['Samples'])\n",
        "plt.grid(True)\n",
        "plt.show()"
      ]
    }
  ],
  "metadata": {
    "colab": {
      "provenance": []
    },
    "kernelspec": {
      "display_name": "Python 3",
      "name": "python3"
    },
    "language_info": {
      "name": "python",
      "version": "3.10.12"
    }
  },
  "nbformat": 4,
  "nbformat_minor": 0
}
