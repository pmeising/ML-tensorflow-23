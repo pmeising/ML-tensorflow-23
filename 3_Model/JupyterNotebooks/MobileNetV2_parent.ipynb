{
  "cells": [
    {
      "cell_type": "code",
      "execution_count": null,
      "metadata": {
        "id": "cCQtd5UwMd0q"
      },
      "outputs": [],
      "source": [
        "from google.colab import files, drive\n",
        "import zipfile\n",
        "import shutil\n",
        "import os\n",
        "import numpy as np\n",
        "import tensorflow as tf\n",
        "from sklearn.model_selection import train_test_split\n",
        "from tensorflow.keras.models import load_model\n",
        "from tensorflow.keras.preprocessing.image import ImageDataGenerator\n",
        "from tensorflow.keras import layers, models\n",
        "from tensorflow.keras.layers import Dense, Activation, Flatten, MaxPooling2D, Conv2D\n",
        "import matplotlib.pyplot as plt\n",
        "from sklearn.metrics import confusion_matrix\n",
        "from sklearn.metrics import classification_report\n",
        "import seaborn as sns\n",
        "from tensorflow.keras.applications import MobileNetV2\n",
        "from collections import Counter\n",
        "import random\n",
        "from matplotlib.backends.backend_pdf import PdfPages\n",
        "import json\n",
        "import cv2"
      ]
    },
    {
      "cell_type": "code",
      "execution_count": null,
      "metadata": {
        "colab": {
          "base_uri": "https://localhost:8080/"
        },
        "id": "45_AQL3OMnkS",
        "outputId": "d014ba69-ec68-4eff-b113-633a5738239b"
      },
      "outputs": [
        {
          "output_type": "stream",
          "name": "stdout",
          "text": [
            "Mounted at /content/drive\n"
          ]
        }
      ],
      "source": [
        "drive.mount('/content/drive')\n",
        "\n",
        "# Path to the zip file in Google Drive\n",
        "zip_file_path = '/content/drive/MyDrive/ML_Tensorflow/phytoplankton_labeled.zip'\n",
        "\n",
        "with zipfile.ZipFile(zip_file_path, 'r') as zip_ref:\n",
        "    zip_ref.extractall('/content/dataset')\n",
        "\n",
        "data_dir = '/content/dataset/labeled_20201020'\n",
        "\n",
        "base_dir = '/content/dataset/groups'"
      ]
    },
    {
      "cell_type": "code",
      "execution_count": null,
      "metadata": {
        "colab": {
          "base_uri": "https://localhost:8080/"
        },
        "id": "2UrQ9yyYbohL",
        "outputId": "08b5beb1-9467-452e-a174-193db4168a43"
      },
      "outputs": [
        {
          "output_type": "stream",
          "name": "stdout",
          "text": [
            "Grouping and copying complete.\n"
          ]
        }
      ],
      "source": [
        "max_samples = 225\n",
        "\n",
        "# Function to augment and save images to balance the classes\n",
        "def augment_class(src_dir, current_count, max_samples):\n",
        "    datagen = ImageDataGenerator(\n",
        "        rotation_range=40,\n",
        "        width_shift_range=0.2,\n",
        "        height_shift_range=0.2,\n",
        "        shear_range=0.2,\n",
        "        zoom_range=0.2,\n",
        "        horizontal_flip=True,\n",
        "        fill_mode='nearest'\n",
        "    )\n",
        "\n",
        "    files_to_augment = os.listdir(src_dir)\n",
        "    num_to_augment = max_samples - current_count\n",
        "    augmented_files = 0\n",
        "\n",
        "    for file_name in files_to_augment:\n",
        "        print(f\"Num to augment: {num_to_augment}.\")\n",
        "        if augmented_files >= num_to_augment:\n",
        "            break\n",
        "\n",
        "        image_path = os.path.join(src_dir, file_name)\n",
        "        image = cv2.imread(image_path)\n",
        "        if image is None:\n",
        "            continue\n",
        "\n",
        "        image = np.expand_dims(image, axis=0)\n",
        "        for x_batch in datagen.flow(image, batch_size=1):\n",
        "            aug_image_path = os.path.join(src_dir, f\"{file_name}_aug_{augmented_files}\")\n",
        "            cv2.imwrite(aug_image_path, x_batch[0][0])\n",
        "            augmented_files += 1\n",
        "\n",
        "            if augmented_files >= num_to_augment:\n",
        "                break\n",
        "\n",
        "def create_directory(dir_path):\n",
        "    if not os.path.exists(dir_path):\n",
        "        os.makedirs(dir_path)\n",
        "\n",
        "if os.path.exists(base_dir):\n",
        "    shutil.rmtree(base_dir)\n",
        "\n",
        "sub_dirs = ['train', 'val', 'test']\n",
        "groups = [f'group_{i}' for i in range(1, 6)]\n",
        "\n",
        "for sub_dir in sub_dirs:\n",
        "    for group in groups:\n",
        "        create_directory(os.path.join(base_dir, sub_dir, group))\n",
        "\n",
        "class_dirs = sorted([d for d in os.listdir(data_dir) if os.path.isdir(os.path.join(data_dir, d))])\n",
        "\n",
        "for index, class_dir in enumerate(class_dirs):\n",
        "    group_number = index // 10 + 1\n",
        "    src_dir = os.path.join(data_dir, class_dir)\n",
        "\n",
        "    current_files_count = len([f for f in os.listdir(src_dir) if os.path.isfile(os.path.join(src_dir, f))])\n",
        "    # print(f\"current files in {class_dir}: {current_files_count}\")\n",
        "    if current_files_count < max_samples:\n",
        "        augment_class(src_dir, current_files_count, max_samples)\n",
        "\n",
        "    # Get the list of files after augmentation\n",
        "    all_files = [f for f in os.listdir(src_dir) if os.path.isfile(os.path.join(src_dir, f))]\n",
        "    random.shuffle(all_files)\n",
        "\n",
        "    # Split the files into train, validation, and test sets\n",
        "    train_files, test_files = train_test_split(all_files, test_size=0.2, random_state=42)\n",
        "    train_files, val_files = train_test_split(train_files, test_size=0.25, random_state=42)\n",
        "\n",
        "    # Copy files to their respective group directories\n",
        "    for file_name in train_files[:max_samples]:\n",
        "        shutil.copy(os.path.join(src_dir, file_name), os.path.join(base_dir, 'train', f'group_{group_number}'))\n",
        "    for file_name in val_files[:max_samples]:\n",
        "        shutil.copy(os.path.join(src_dir, file_name), os.path.join(base_dir, 'val', f'group_{group_number}'))\n",
        "    for file_name in test_files[:max_samples]:\n",
        "        shutil.copy(os.path.join(src_dir, file_name), os.path.join(base_dir, 'test', f'group_{group_number}'))\n",
        "\n",
        "print(\"Grouping and copying complete.\")\n"
      ]
    },
    {
      "cell_type": "code",
      "execution_count": null,
      "metadata": {
        "colab": {
          "base_uri": "https://localhost:8080/"
        },
        "id": "F0ccMCcsqu1J",
        "outputId": "4a9d0f22-ce56-49d1-e3f8-212f3cb8d697"
      },
      "outputs": [
        {
          "output_type": "stream",
          "name": "stdout",
          "text": [
            "Found 7359 images belonging to 5 classes.\n",
            "Found 5126 images belonging to 5 classes.\n",
            "Found 5087 images belonging to 5 classes.\n"
          ]
        }
      ],
      "source": [
        "num_classes = 5\n",
        "batch_size = 32\n",
        "\n",
        "train_dir = os.path.join(base_dir, 'train')\n",
        "val_dir = os.path.join(base_dir, 'val')\n",
        "test_dir = os.path.join(base_dir, 'test')\n",
        "\n",
        "def create_model(num_classes):\n",
        "    # Load MobileNetV2 pre-trained on ImageNet data\n",
        "    base_model = MobileNetV2(weights='imagenet', include_top=False, input_shape=(160, 160, 3))\n",
        "    base_model.trainable = False  # Freeze the base model\n",
        "\n",
        "    # Add custom layers on top\n",
        "    model = models.Sequential([\n",
        "        base_model,\n",
        "        layers.GlobalAveragePooling2D(),\n",
        "        layers.Dense(1024, activation='relu'),\n",
        "        layers.Dropout(0.2),\n",
        "        layers.Dense(num_classes, activation='softmax')  # Output layer with 'num_classes' units\n",
        "    ])\n",
        "\n",
        "    # Compile the model\n",
        "    model.compile(optimizer='adam', loss='categorical_crossentropy', metrics=['accuracy'])\n",
        "\n",
        "    return model\n",
        "\n",
        "\n",
        "# Function to plot training history\n",
        "def plot_training_history(history):\n",
        "    acc = history.history['accuracy']\n",
        "    val_acc = history.history['val_accuracy']\n",
        "    loss = history.history['loss']\n",
        "    val_loss = history.history['val_loss']\n",
        "\n",
        "    epochs = range(len(acc))\n",
        "\n",
        "    plt.figure(figsize=(12, 4))\n",
        "    plt.subplot(1, 2, 1)\n",
        "    plt.plot(epochs, acc, label='Training accuracy')\n",
        "    plt.plot(epochs, val_acc, label='Validation accuracy')\n",
        "    plt.title('Training and validation accuracy')\n",
        "    plt.legend()\n",
        "\n",
        "    plt.subplot(1, 2, 2)\n",
        "    plt.plot(epochs, loss, label='Training loss')\n",
        "    plt.plot(epochs, val_loss, label='Validation loss')\n",
        "    plt.title('Training and validation loss')\n",
        "    plt.legend()\n",
        "\n",
        "    plt.show()\n",
        "\n",
        "\n",
        "def build_data_generators(train_dir, val_dir, test_dir, batch_size):\n",
        "\n",
        "    # Rescale images to have pixel values in the range [0, 1]\n",
        "    train_datagen = ImageDataGenerator(\n",
        "        rescale=1./255,\n",
        "        rotation_range=10,\n",
        "        width_shift_range=0.1,\n",
        "        height_shift_range=0.1,\n",
        "        # shear_range=0.3,\n",
        "        # zoom_range=0.3,\n",
        "        fill_mode='nearest'\n",
        "        )\n",
        "\n",
        "\n",
        "    test_datagen = ImageDataGenerator(rescale=1./255)\n",
        "\n",
        "    # Create data generators for training and validation\n",
        "    train_generator = train_datagen.flow_from_directory(\n",
        "        train_dir,\n",
        "        target_size=(160, 160),\n",
        "        batch_size=batch_size,\n",
        "        class_mode='categorical'\n",
        "    )\n",
        "\n",
        "    val_generator = test_datagen.flow_from_directory(\n",
        "        val_dir,\n",
        "        target_size=(160, 160),\n",
        "        batch_size=batch_size,\n",
        "        class_mode='categorical'\n",
        "    )\n",
        "\n",
        "    # Create data generator for testing\n",
        "    test_generator = test_datagen.flow_from_directory(\n",
        "        test_dir,\n",
        "        target_size=(160, 160),\n",
        "        batch_size=batch_size,\n",
        "        class_mode='categorical',\n",
        "        shuffle=False  # Important for test set to not shuffle for evaluation\n",
        "    )\n",
        "\n",
        "    return train_generator, val_generator, test_generator\n",
        "\n",
        "model = create_model(num_classes)\n",
        "train_generator, val_generator, test_generator = build_data_generators(train_dir, val_dir, test_dir, batch_size)"
      ]
    },
    {
      "cell_type": "code",
      "execution_count": null,
      "metadata": {
        "colab": {
          "base_uri": "https://localhost:8080/",
          "height": 1000
        },
        "id": "eiOWvmKcw8bu",
        "outputId": "bbb6061b-5fe8-490c-a132-3b19822f2f48"
      },
      "outputs": [
        {
          "output_type": "stream",
          "name": "stdout",
          "text": [
            "Epoch 1/16\n",
            "229/229 - 340s - loss: 0.3966 - accuracy: 0.8508 - val_loss: 0.7203 - val_accuracy: 0.7320 - 340s/epoch - 1s/step\n",
            "Epoch 2/16\n",
            "229/229 - 355s - loss: 0.3547 - accuracy: 0.8687 - val_loss: 0.5929 - val_accuracy: 0.7797 - 355s/epoch - 2s/step\n",
            "Epoch 3/16\n",
            "229/229 - 352s - loss: 0.3203 - accuracy: 0.8809 - val_loss: 0.5908 - val_accuracy: 0.7902 - 352s/epoch - 2s/step\n",
            "Epoch 4/16\n",
            "229/229 - 341s - loss: 0.2960 - accuracy: 0.8884 - val_loss: 0.5502 - val_accuracy: 0.8111 - 341s/epoch - 1s/step\n",
            "Epoch 5/16\n",
            "229/229 - 345s - loss: 0.2650 - accuracy: 0.9000 - val_loss: 0.5983 - val_accuracy: 0.7961 - 345s/epoch - 2s/step\n",
            "Epoch 6/16\n",
            "229/229 - 334s - loss: 0.2641 - accuracy: 0.8993 - val_loss: 0.5417 - val_accuracy: 0.8168 - 334s/epoch - 1s/step\n",
            "Epoch 7/16\n",
            "229/229 - 359s - loss: 0.2460 - accuracy: 0.9101 - val_loss: 0.5070 - val_accuracy: 0.8281 - 359s/epoch - 2s/step\n",
            "Epoch 8/16\n",
            "229/229 - 344s - loss: 0.2224 - accuracy: 0.9169 - val_loss: 0.5440 - val_accuracy: 0.8191 - 344s/epoch - 2s/step\n",
            "Epoch 9/16\n",
            "229/229 - 341s - loss: 0.2137 - accuracy: 0.9214 - val_loss: 0.5392 - val_accuracy: 0.8240 - 341s/epoch - 1s/step\n",
            "Epoch 10/16\n",
            "229/229 - 341s - loss: 0.1934 - accuracy: 0.9301 - val_loss: 0.5013 - val_accuracy: 0.8324 - 341s/epoch - 1s/step\n",
            "Epoch 11/16\n",
            "229/229 - 342s - loss: 0.1914 - accuracy: 0.9298 - val_loss: 0.5050 - val_accuracy: 0.8441 - 342s/epoch - 1s/step\n",
            "Epoch 12/16\n",
            "229/229 - 305s - loss: 0.1803 - accuracy: 0.9350 - val_loss: 0.4339 - val_accuracy: 0.8615 - 305s/epoch - 1s/step\n",
            "Epoch 13/16\n",
            "229/229 - 343s - loss: 0.1687 - accuracy: 0.9354 - val_loss: 0.5504 - val_accuracy: 0.8461 - 343s/epoch - 1s/step\n",
            "Epoch 14/16\n",
            "229/229 - 342s - loss: 0.1607 - accuracy: 0.9412 - val_loss: 0.5738 - val_accuracy: 0.8357 - 342s/epoch - 1s/step\n",
            "Epoch 15/16\n",
            "229/229 - 301s - loss: 0.1637 - accuracy: 0.9374 - val_loss: 0.4920 - val_accuracy: 0.8502 - 301s/epoch - 1s/step\n",
            "Epoch 16/16\n",
            "229/229 - 340s - loss: 0.1459 - accuracy: 0.9442 - val_loss: 0.5333 - val_accuracy: 0.8461 - 340s/epoch - 1s/step\n",
            "Saved the training history to /content/drive/MyDrive/ML_Tensorflow/training_history_parent_1.json\n"
          ]
        },
        {
          "output_type": "display_data",
          "data": {
            "text/plain": [
              "<Figure size 1200x400 with 2 Axes>"
            ],
            "image/png": "[encoded data removed]"
          },
          "metadata": {}
        },
        {
          "output_type": "stream",
          "name": "stdout",
          "text": [
            "158/158 [==============================] - 105s 660ms/step - loss: 0.5243 - accuracy: 0.8434\n",
            "Test accuracy: 84.34%\n"
          ]
        },
        {
          "output_type": "stream",
          "name": "stderr",
          "text": [
            "/usr/local/lib/python3.10/dist-packages/keras/src/engine/training.py:3103: UserWarning: You are saving your model as an HDF5 file via `model.save()`. This file format is considered legacy. We recommend using instead the native Keras format, e.g. `model.save('my_model.keras')`.\n",
            "  saving_api.save_model(\n"
          ]
        },
        {
          "output_type": "stream",
          "name": "stdout",
          "text": [
            "Saved the parent model to /content/drive/MyDrive/ML_Tensorflow/model_parent_17.h5\n"
          ]
        }
      ],
      "source": [
        " epochs = 16\n",
        "\n",
        "# Training the model\n",
        "history = model.fit(\n",
        "    train_generator,\n",
        "    steps_per_epoch=train_generator.samples // batch_size,\n",
        "    epochs=epochs,\n",
        "    validation_data=val_generator,\n",
        "    validation_steps=val_generator.samples // batch_size,\n",
        "    verbose=2\n",
        ")\n",
        "\n",
        "# Convert the training history into a dictionary\n",
        "history_dict = history.history\n",
        "\n",
        "# Serialize the dictionary into JSON\n",
        "history_json = json.dumps(history_dict, indent=4)\n",
        "\n",
        "# Specify the directory to save the history\n",
        "history_save_dir = f'/content/drive/MyDrive/ML_Tensorflow/training_history_parent_1.json'\n",
        "\n",
        "# Write the JSON data to a file\n",
        "with open(history_save_dir, 'w') as f:\n",
        "    f.write(history_json)\n",
        "\n",
        "print(f\"Saved the training history to {history_save_dir}\")\n",
        "\n",
        "# Plot training history\n",
        "plot_training_history(history)\n",
        "\n",
        "# Evaluate the model on test data\n",
        "test_loss, test_accuracy = model.evaluate(test_generator, steps=test_generator.samples // batch_size)\n",
        "print(f\"Test accuracy: {test_accuracy*100:.2f}%\")\n",
        "\n",
        "save_dir = '/content/drive/MyDrive/ML_Tensorflow/model_parent_17.h5'\n",
        "model.save(save_dir)\n",
        "print(f\"Saved the parent model to {save_dir}\")"
      ]
    },
    {
      "cell_type": "code",
      "execution_count": null,
      "metadata": {
        "colab": {
          "base_uri": "https://localhost:8080/"
        },
        "id": "A8qAYM5dzjQ1",
        "outputId": "e3a6ef91-2c59-4d25-f274-4f6707b9b1d5"
      },
      "outputs": [
        {
          "output_type": "stream",
          "name": "stdout",
          "text": [
            "159/159 [==============================] - 103s 643ms/step\n",
            "Accuracy for model /content/drive/MyDrive/ML_Tensorflow/model_parent_17.h5: 0.8439158639669746\n",
            "              precision    recall  f1-score   support\n",
            "\n",
            "     group_1       0.92      0.87      0.89       671\n",
            "     group_2       0.91      0.81      0.85      1366\n",
            "     group_3       0.61      0.93      0.73       716\n",
            "     group_4       0.89      0.83      0.86       822\n",
            "     group_5       0.91      0.84      0.87      1512\n",
            "\n",
            "    accuracy                           0.84      5087\n",
            "   macro avg       0.85      0.85      0.84      5087\n",
            "weighted avg       0.87      0.84      0.85      5087\n",
            "\n"
          ]
        }
      ],
      "source": [
        "model_dirs = []\n",
        "\n",
        "model_source_path = '/content/drive/MyDrive/ML_Tensorflow/'\n",
        "\n",
        "model_dirs.append(model_source_path + 'model_parent_17.h5')\n",
        "\n",
        "with PdfPages('parent_model_evaluation_report.pdf') as pdf:\n",
        "    for model_dir in model_dirs:\n",
        "        model = load_model(model_dir)\n",
        "\n",
        "        # Ensure your test_generator is set correctly for the current model\n",
        "        test_dir = f'/content/dataset/groups/test'\n",
        "\n",
        "        test_generator.shuffle = False\n",
        "        test_generator.reset()\n",
        "\n",
        "        # Predict using the model\n",
        "        predictions = model.predict(test_generator, steps=np.ceil(test_generator.samples / test_generator.batch_size))\n",
        "\n",
        "        # Convert predictions to class indices\n",
        "        predicted_class_indices = np.argmax(predictions, axis=1)\n",
        "\n",
        "        # Get true labels from the generator\n",
        "        true_labels = test_generator.classes\n",
        "\n",
        "        # Calculate accuracy\n",
        "        accuracy = np.sum(predicted_class_indices == true_labels) / len(true_labels)\n",
        "        print(f\"Accuracy for model {model_dir}: {accuracy}\")\n",
        "\n",
        "        # Generate and plot the confusion matrix\n",
        "        conf_matrix = confusion_matrix(true_labels, predicted_class_indices)\n",
        "\n",
        "        plt.figure(figsize=(10, 10))\n",
        "        sns.heatmap(conf_matrix, annot=True, fmt='d', cmap='Blues')\n",
        "        plt.title(f'Confusion Matrix for model {model_dir}')\n",
        "        plt.ylabel('True Label')\n",
        "        plt.xlabel('Predicted Label')\n",
        "        pdf.savefig()  # Save the current figure into the pdf\n",
        "        plt.close()\n",
        "\n",
        "        # Write classification report to PDF\n",
        "        report = classification_report(true_labels, predicted_class_indices, target_names=list(test_generator.class_indices.keys()))\n",
        "        pdf.attach_note(report)\n",
        "\n",
        "        # Optional: Print classification report\n",
        "        print(classification_report(true_labels, predicted_class_indices, target_names=list(test_generator.class_indices.keys())))\n"
      ]
    }
  ],
  "metadata": {
    "colab": {
      "provenance": []
    },
    "kernelspec": {
      "display_name": "Python 3",
      "name": "python3"
    },
    "language_info": {
      "name": "python"
    }
  },
  "nbformat": 4,
  "nbformat_minor": 0
}