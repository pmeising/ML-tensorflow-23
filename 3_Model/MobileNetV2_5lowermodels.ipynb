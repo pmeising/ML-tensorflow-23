{
  "cells": [
    {
      "cell_type": "markdown",
      "metadata": {
        "id": "gjz21-d3k4je"
      },
      "source": [
        "# Baseline Model"
      ]
    },
    {
      "cell_type": "markdown",
      "metadata": {
        "id": "EjG418Q3k4jf"
      },
      "source": [
        "**Table of Contents**\n",
        "1. [Model Choice](#model-choice)\n",
        "2. [Feature Selection](#feature-selection)\n",
        "3. [Implementation](#implementation)\n",
        "4. [Evaluation](#evaluation)\n"
      ]
    },
    {
      "cell_type": "markdown",
      "metadata": {
        "id": "lfToeXlUk4jf"
      },
      "source": [
        "### Model Choice\n",
        "A Convolutional Neural Network (CNN) is an ideal baseline model for classifying 50 types of phytoplankton images, as it excels in capturing the subtle variances in shape, size, and texture that are crucial for distinguishing between different phytoplankton types. With its robustness to image variations and effectiveness in complex multi-class tasks, a CNN is highly suitable for this purpose. Moreover, its scalability and the potential for transfer learning add to its practicality in handling diverse datasets. Importantly, a CNN serves as an excellent starting point for model optimization, where further improvements can be achieved by fine-tuning hyperparameters and experimenting with various preprocessing techniques, allowing for tailored enhancements to suit specific dataset characteristics."
      ]
    },
    {
      "cell_type": "code",
      "source": [
        "from google.colab import files, drive\n",
        "import zipfile\n",
        "import shutil\n",
        "import os\n",
        "import numpy as np\n",
        "import tensorflow as tf\n",
        "from sklearn.model_selection import train_test_split\n",
        "from tensorflow.keras.models import load_model\n",
        "from tensorflow.keras.preprocessing.image import ImageDataGenerator\n",
        "from tensorflow.keras import layers, models\n",
        "from tensorflow.keras.layers import Dense, Activation, Flatten, MaxPooling2D, Conv2D\n",
        "import matplotlib.pyplot as plt\n",
        "from sklearn.metrics import confusion_matrix\n",
        "from sklearn.metrics import classification_report\n",
        "import seaborn as sns\n",
        "from tensorflow.keras.applications import MobileNetV2\n",
        "from collections import Counter\n",
        "import random\n"
      ],
      "metadata": {
        "id": "gqWjq9UnqNj6"
      },
      "execution_count": 142,
      "outputs": []
    },
    {
      "cell_type": "code",
      "execution_count": 131,
      "metadata": {
        "colab": {
          "base_uri": "https://localhost:8080/"
        },
        "id": "OKd5KFnqF2aO",
        "outputId": "26e7ffbe-7019-4c2b-98fc-ce076ac8193f"
      },
      "outputs": [
        {
          "output_type": "stream",
          "name": "stdout",
          "text": [
            "Drive already mounted at /content/drive; to attempt to forcibly remount, call drive.mount(\"/content/drive\", force_remount=True).\n"
          ]
        }
      ],
      "source": [
        "drive.mount('/content/drive')\n",
        "\n",
        "# Path to the zip file in Google Drive\n",
        "zip_file_path = '/content/drive/MyDrive/ML_Tensorflow/phytoplankton_labeled.zip'\n",
        "\n",
        "with zipfile.ZipFile(zip_file_path, 'r') as zip_ref:\n",
        "    zip_ref.extractall('/content/dataset')\n",
        "\n",
        "data_dir = '/content/dataset/labeled_20201020'\n",
        "\n",
        "base_dir = '/content/dataset'"
      ]
    },
    {
      "cell_type": "code",
      "source": [
        "def prepare_data_for_class_range(class_range, class_to_idx):\n",
        "    # Filter the paths and labels for the selected classes\n",
        "    start_class, end_class = class_range\n",
        "    filtered_image_paths = [path for path, label in zip(image_paths, labels) if class_to_idx[label] in range(start_class, end_class + 1)]\n",
        "    filtered_labels = [label for label in labels if class_to_idx[label] in range(start_class, end_class + 1)]\n",
        "\n",
        "    # Split the filtered dataset into train, val, and test sets\n",
        "    X_train, X_temp, y_train, y_temp = train_test_split(filtered_image_paths, filtered_labels, test_size=0.3, random_state=42)\n",
        "    X_val, X_test, y_val, y_test = train_test_split(X_temp, y_temp, test_size=1/3, random_state=42)\n",
        "\n",
        "    # Define directories for train, val, test\n",
        "    train_dir = os.path.join(base_dir, f'train_directory_{start_class}_{end_class}')\n",
        "    val_dir = os.path.join(base_dir, f'val_directory_{start_class}_{end_class}')\n",
        "    test_dir = os.path.join(base_dir, f'test_directory_{start_class}_{end_class}')\n",
        "\n",
        "    # Remove existing directories and recreate them\n",
        "    for dir in [train_dir, val_dir, test_dir]:\n",
        "        if os.path.exists(dir):\n",
        "            shutil.rmtree(dir)\n",
        "        os.makedirs(dir)\n",
        "\n",
        "    # Function to create directories and copy images\n",
        "    def create_and_copy(image_paths, labels, target_dir):\n",
        "        for img_path, label in zip(image_paths, labels):\n",
        "            class_dir = os.path.join(target_dir, label)\n",
        "            if not os.path.exists(class_dir):\n",
        "                os.makedirs(class_dir)\n",
        "            shutil.copy(img_path, os.path.join(class_dir, os.path.basename(img_path)))\n",
        "\n",
        "    # Copy files to their respective directories\n",
        "    create_and_copy(X_train, y_train, train_dir)\n",
        "    create_and_copy(X_val, y_val, val_dir)\n",
        "    create_and_copy(X_test, y_test, test_dir)\n",
        "\n",
        "    return train_dir, val_dir, test_dir\n",
        "\n",
        "# Specify the number of classes to include\n",
        "num_classes = 10\n",
        "batch_size = 32\n",
        "epochs = 20\n",
        "\n",
        "# Get paths and labels for a subset of classes\n",
        "image_paths = []\n",
        "labels = []\n",
        "for class_dir in sorted(os.listdir(data_dir)):\n",
        "    class_dir_path = os.path.join(data_dir, class_dir)\n",
        "    if os.path.isdir(class_dir_path):\n",
        "        image_paths.extend([os.path.join(class_dir_path, image) for image in os.listdir(class_dir_path)])\n",
        "        labels.extend([class_dir] * len(os.listdir(class_dir_path)))\n",
        "\n",
        "# Select the first 'num_classes' classes\n",
        "unique_classes = np.unique(labels)\n",
        "selected_classes = set(unique_classes[:num_classes])\n",
        "\n",
        "# Generate a dictionary mapping numerical values to class names\n",
        "class_to_idx = {class_name: idx for idx, class_name in enumerate(unique_classes)}\n",
        "\n",
        "# Generate a dictionary mapping numerical values back to class names\n",
        "idx_to_class = {idx: class_name for class_name, idx in class_to_idx.items()}\n",
        "\n",
        "# Define the class range\n",
        "class_ranges = [(0, 9), (10, 19), (20, 29), (30, 39), (40, 49)]\n",
        "\n",
        "# Print completion message\n",
        "for class_range in class_ranges:\n",
        "    train_dir, val_dir, test_dir = prepare_data_for_class_range(class_range, class_to_idx)\n",
        "    print(f\"Data for classes {class_range} prepared and stored in:\\nTrain: {train_dir}\\nVal: {val_dir}\\nTest: {test_dir}\")\n"
      ],
      "metadata": {
        "id": "Rk84GfpyqEJ6",
        "outputId": "7b0dc75f-67b8-497c-a668-c26da15cd124",
        "colab": {
          "base_uri": "https://localhost:8080/"
        }
      },
      "execution_count": 136,
      "outputs": [
        {
          "output_type": "stream",
          "name": "stdout",
          "text": [
            "Data for classes (0, 9) prepared and stored in:\n",
            "Train: /content/dataset/train_directory_0_9\n",
            "Val: /content/dataset/val_directory_0_9\n",
            "Test: /content/dataset/test_directory_0_9\n",
            "Data for classes (10, 19) prepared and stored in:\n",
            "Train: /content/dataset/train_directory_10_19\n",
            "Val: /content/dataset/val_directory_10_19\n",
            "Test: /content/dataset/test_directory_10_19\n",
            "Data for classes (20, 29) prepared and stored in:\n",
            "Train: /content/dataset/train_directory_20_29\n",
            "Val: /content/dataset/val_directory_20_29\n",
            "Test: /content/dataset/test_directory_20_29\n",
            "Data for classes (30, 39) prepared and stored in:\n",
            "Train: /content/dataset/train_directory_30_39\n",
            "Val: /content/dataset/val_directory_30_39\n",
            "Test: /content/dataset/test_directory_30_39\n",
            "Data for classes (40, 49) prepared and stored in:\n",
            "Train: /content/dataset/train_directory_40_49\n",
            "Val: /content/dataset/val_directory_40_49\n",
            "Test: /content/dataset/test_directory_40_49\n"
          ]
        }
      ]
    },
    {
      "cell_type": "code",
      "source": [
        "# Undersampling overrepresented classes\n",
        "desired_count = 1000\n",
        "\n",
        "def undersample_training_directories(class_ranges):\n",
        "    class_counts = {}\n",
        "\n",
        "    for class_range in class_ranges:\n",
        "        train_dir = os.path.join(base_dir, f'train_directory_{class_range[0]}_{class_range[1]}')\n",
        "\n",
        "        for class_dir in os.listdir(train_dir):\n",
        "            class_dir_path = os.path.join(train_dir, class_dir)\n",
        "            if os.path.isdir(class_dir_path):\n",
        "                images = os.listdir(class_dir_path)\n",
        "                if len(images) > desired_count:\n",
        "                    # Randomly select and remove images\n",
        "                    images_to_remove = random.sample(images, len(images) - desired_count)\n",
        "                    for image in images_to_remove:\n",
        "                        os.remove(os.path.join(class_dir_path, image))\n",
        "\n",
        "                # Update class_counts dictionary\n",
        "                class_counts[class_dir] = len(os.listdir(class_dir_path))\n",
        "\n",
        "    return class_counts\n",
        "\n",
        "class_counts = undersample_training_directories(class_ranges)\n",
        "print(class_counts)"
      ],
      "metadata": {
        "colab": {
          "base_uri": "https://localhost:8080/"
        },
        "id": "eGJbe1Nu4UMZ",
        "outputId": "1a246eca-bdca-4b2c-ba60-5438f108a3f1"
      },
      "execution_count": 139,
      "outputs": [
        {
          "output_type": "stream",
          "name": "stdout",
          "text": [
            "{'Aphanothece_paralleliformis': 19, 'Chlorococcales': 68, 'Centrales_sp': 332, 'Chaetoceros_sp_single': 148, 'Aphanizomenon_flosaquae': 1000, 'Ceratoneis_closterium': 29, 'Beads': 92, 'Amylax_triacantha': 12, 'Chroococcales': 92, 'Chaetoceros_sp': 995, 'Cryptophyceae-Teleaulax': 1000, 'Ciliata': 177, 'Cyclotella_choctawhatcheeana': 73, 'Chroococcus_small': 590, 'Cryptomonadales': 500, 'Dolichospermum-Anabaenopsis-coiled': 1000, 'Dinophyceae': 991, 'Dolichospermum-Anabaenopsis': 1000, 'Dinophysis_acuminata': 150, 'Cymbomonas_tetramitiformis': 140, 'Gymnodinium_like': 112, 'Gonyaulax_verior': 19, 'Gymnodiniales': 49, 'Eutreptiella_sp': 1000, 'Heterocapsa_rotundata': 427, 'Katablepharis_remigera': 40, 'Heterocyte': 182, 'Heterocapsa_triquetra': 1000, 'Euglenophyceae': 64, 'Licmophora_sp': 50, 'Merismopedia_sp': 62, 'Pennales_sp_thick': 142, 'Monoraphidium_contortum': 214, 'Nitzschia_paleacea': 46, 'Mesodinium_rubrum': 782, 'Oscillatoriales': 1000, 'Melosira_arctica': 30, 'Nodularia_spumigena': 120, 'Pauliella_taeniata': 88, 'Oocystis_sp': 590, 'Peridiniella_catenata_chain': 140, 'Skeletonema_marinoi': 1000, 'Snowella-Woronichinia': 1000, 'Pennales_sp_thin': 536, 'Peridiniella_catenata_single': 633, 'Thalassiosira_levanderi': 1000, 'Uroglenopsis_sp': 351, 'Pyramimonas_sp': 864, 'Prorocentrum_cordatum': 193, 'Pseudopedinella_sp': 260}\n"
          ]
        }
      ]
    },
    {
      "cell_type": "markdown",
      "metadata": {
        "id": "tUb7Yuywk4jh"
      },
      "source": [
        "### Feature Selection\n",
        "\n",
        "In the context of using a Convolutional Neural Network (CNN) for classifying images of phytoplankton, \"feature selection\" takes on a different meaning compared to traditional machine learning models. Unlike models where you manually select features from a dataset, CNNs handle feature extraction and selection internally through their layers."
      ]
    },
    {
      "cell_type": "code",
      "source": [
        "def create_model(num_classes):\n",
        "    # Load MobileNetV2 pre-trained on ImageNet data\n",
        "    base_model = MobileNetV2(weights='imagenet', include_top=False, input_shape=(160, 160, 3))\n",
        "    base_model.trainable = False  # Freeze the base model\n",
        "\n",
        "    # Add custom layers on top\n",
        "    model = models.Sequential([\n",
        "        base_model,\n",
        "        layers.GlobalAveragePooling2D(),\n",
        "        layers.Dense(1024, activation='relu'),\n",
        "        layers.Dropout(0.2),\n",
        "        layers.Dense(num_classes, activation='softmax')  # Output layer with 'num_classes' units\n",
        "    ])\n",
        "\n",
        "    # Compile the model\n",
        "    model.compile(optimizer='adam', loss='categorical_crossentropy', metrics=['accuracy'])\n",
        "\n",
        "    return model\n",
        "\n",
        "# Function to return augmented data generator for underrepresented classes\n",
        "def get_augmentation():\n",
        "    return ImageDataGenerator(\n",
        "        rotation_range=90,\n",
        "        width_shift_range=0.5,\n",
        "        height_shift_range=0.5,\n",
        "        shear_range=0.5,\n",
        "        zoom_range=0.5,\n",
        "        horizontal_flip=True,\n",
        "        vertical_flip=True,\n",
        "        fill_mode='nearest'\n",
        "    )\n",
        "\n",
        "# Define a custom generator\n",
        "def custom_generator(train_dir, batch_size, class_counts, desired_count):\n",
        "    base_generator = ImageDataGenerator(rescale=1./255).flow_from_directory(\n",
        "        train_dir,\n",
        "        target_size=(160, 160),\n",
        "        batch_size=batch_size,\n",
        "        class_mode='categorical'\n",
        "    )\n",
        "    while True:\n",
        "        x_batch, y_batch = next(base_generator)\n",
        "        for i in range(x_batch.shape[0]):\n",
        "            class_index = np.argmax(y_batch[i])\n",
        "            class_name = list(base_generator.class_indices.keys())[class_index]\n",
        "            if class_counts[class_name] < desired_count:\n",
        "                aug_gen = get_augmentation()\n",
        "                x_batch[i] = aug_gen.random_transform(x_batch[i])\n",
        "        yield x_batch, y_batch\n",
        "\n",
        "def create_data_generators(train_dir, val_dir, test_dir, batch_size, class_counts, desired_count):\n",
        "    train_generator = custom_generator(train_dir, batch_size, class_counts, desired_count)\n",
        "\n",
        "    val_datagen = ImageDataGenerator(rescale=1./255)\n",
        "    val_generator = val_datagen.flow_from_directory(\n",
        "        val_dir,\n",
        "        target_size=(160, 160),\n",
        "        batch_size=batch_size,\n",
        "        class_mode='categorical'\n",
        "    )\n",
        "\n",
        "    test_datagen = ImageDataGenerator(rescale=1./255)\n",
        "    test_generator = test_datagen.flow_from_directory(\n",
        "        test_dir,\n",
        "        target_size=(160, 160),\n",
        "        batch_size=batch_size,\n",
        "        class_mode='categorical'\n",
        "    )\n",
        "\n",
        "    return train_generator, val_generator, test_generator\n",
        "\n",
        "# Function to plot training history\n",
        "def plot_training_history(history):\n",
        "    acc = history.history['accuracy']\n",
        "    val_acc = history.history['val_accuracy']\n",
        "    loss = history.history['loss']\n",
        "    val_loss = history.history['val_loss']\n",
        "\n",
        "    epochs = range(len(acc))\n",
        "\n",
        "    plt.figure(figsize=(12, 4))\n",
        "    plt.subplot(1, 2, 1)\n",
        "    plt.plot(epochs, acc, label='Training accuracy')\n",
        "    plt.plot(epochs, val_acc, label='Validation accuracy')\n",
        "    plt.title('Training and validation accuracy')\n",
        "    plt.legend()\n",
        "\n",
        "    plt.subplot(1, 2, 2)\n",
        "    plt.plot(epochs, loss, label='Training loss')\n",
        "    plt.plot(epochs, val_loss, label='Validation loss')\n",
        "    plt.title('Training and validation loss')\n",
        "    plt.legend()\n",
        "\n",
        "    plt.show()\n",
        "\n",
        "for class_range in class_ranges:\n",
        "    train_dir = f'/content/dataset/train_directory_{class_range[0]}_{class_range[1]}'\n",
        "    val_dir = f'/content/dataset/val_directory_{class_range[0]}_{class_range[1]}'\n",
        "    test_dir = f'/content/dataset/test_directory_{class_range[0]}_{class_range[1]}'\n",
        "\n",
        "    # Create data generators\n",
        "    train_generator, val_generator, test_generator = create_data_generators(\n",
        "        train_dir, val_dir, test_dir, batch_size, class_counts, desired_count\n",
        "    )\n",
        "\n",
        "    # Create a new model for the current subset of classes\n",
        "    num_classes = class_range[1] - class_range[0] + 1\n",
        "    model = create_model(num_classes)\n",
        "    model.summary()\n",
        "\n",
        "    # Calculate the number of training samples for the current class range\n",
        "    current_range_counts = {k: v for k, v in class_counts.items() if class_to_idx[k] in range(class_range[0], class_range[1] + 1)}\n",
        "    num_train_samples = sum(current_range_counts.values())\n",
        "\n",
        "    # Calculate steps per epoch for the current class range\n",
        "    steps_per_epoch = np.ceil(num_train_samples / batch_size)\n",
        "\n",
        "    # Train the model\n",
        "    history = model.fit(\n",
        "        train_generator,\n",
        "        steps_per_epoch=steps_per_epoch,\n",
        "        epochs=epochs,\n",
        "        validation_data=val_generator,\n",
        "        validation_steps=np.ceil(val_generator.samples / batch_size)\n",
        "    )\n",
        "\n",
        "    # Plot the training history\n",
        "    plot_training_history(history)\n",
        "\n",
        "    # Evaluate the model on the test set\n",
        "    test_loss, test_accuracy = model.evaluate(test_generator)\n",
        "    print(f\"Test Accuracy for classes {class_range}: {test_accuracy}\")\n",
        "\n",
        "    # Save the model for future use\n",
        "    model.save(f'/content/drive/MyDrive/ML_Tensorflow/model_{class_range[0]}_{class_range[1]}.h5')"
      ],
      "metadata": {
        "id": "rZeExtyL9wfN"
      },
      "execution_count": null,
      "outputs": []
    },
    {
      "cell_type": "markdown",
      "metadata": {
        "id": "IjCeh42Zk4ji"
      },
      "source": [
        "### Implementation\n",
        "\n",
        "This CNN model, with its multiple convolutional and pooling layers followed by fully connected layers, is designed to effectively capture the hierarchical features in the phytoplankton images, making it suitable for the classification task at hand. The use of ReLU and softmax activations, along with the adam optimizer and categorical crossentropy loss, aligns well with the needs of a complex image classification challenge."
      ]
    },
    {
      "cell_type": "markdown",
      "metadata": {
        "id": "EYNpyfmZk4jj"
      },
      "source": [
        "### Evaluation\n",
        "\n",
        "1. Accuracy: This metric gives you a straightforward indication of the overall correctness of the model by showing the proportion of correct predictions out of all predictions. It's a useful initial indicator to see how well the model performs across all classes.\n",
        "\n",
        "2. Confusion Matrix: This tool is particularly valuable in multi-class classification problems like your 50 phytoplankton types. It not only shows the overall performance but also breaks it down into each class, revealing how the model confuses between different types of phytoplankton. It can highlight if the model is particularly good or bad at classifying certain classes, which is critical information for fine-tuning."
      ]
    },
    {
      "cell_type": "code",
      "source": [
        "def create_test_generator(test_dir, batch_size):\n",
        "    test_datagen = ImageDataGenerator(rescale=1./255)  # Rescale the pixel values\n",
        "\n",
        "    test_generator = test_datagen.flow_from_directory(\n",
        "        test_dir,\n",
        "        target_size=(160, 160),  # Size of your input images, match with your model's input\n",
        "        batch_size=batch_size,\n",
        "        class_mode='categorical',  # Use 'binary' for binary classification\n",
        "        shuffle=False  # Important to keep data in same order as labels\n",
        "    )\n",
        "\n",
        "    return test_generator\n",
        "\n",
        "for class_range in class_ranges:\n",
        "    model_dir = f'/content/drive/MyDrive/ML_Tensorflow/model_{class_range[0]}_{class_range[1]}.h5'\n",
        "    model = load_model(model_dir)\n",
        "\n",
        "    # Ensure your test_generator is set correctly for the current model\n",
        "    test_dir = f'/content/dataset/test_directory_{class_range[0]}_{class_range[1]}'\n",
        "    test_generator = create_test_generator(test_dir, batch_size)\n",
        "\n",
        "    test_generator.shuffle = False\n",
        "    test_generator.reset()\n",
        "\n",
        "    # Predict using the model\n",
        "    predictions = model.predict(test_generator, steps=np.ceil(test_generator.samples / test_generator.batch_size))\n",
        "\n",
        "    # Convert predictions to class indices\n",
        "    predicted_class_indices = np.argmax(predictions, axis=1)\n",
        "\n",
        "    # Get true labels from the generator\n",
        "    true_labels = test_generator.classes\n",
        "\n",
        "    # Calculate accuracy\n",
        "    accuracy = np.sum(predicted_class_indices == true_labels) / len(true_labels)\n",
        "    print(f\"Accuracy for classes {class_range}: {accuracy}\")\n",
        "\n",
        "    # Calculate confusion matrix\n",
        "    conf_matrix = confusion_matrix(true_labels, predicted_class_indices)\n",
        "    print(f\"Confusion Matrix for classes {class_range}:\\n{conf_matrix}\")\n",
        "\n",
        "    # Optional: Print classification report\n",
        "    print(classification_report(true_labels, predicted_class_indices, target_names=test_generator.class_indices.keys()))"
      ],
      "metadata": {
        "colab": {
          "base_uri": "https://localhost:8080/"
        },
        "id": "tMRDpUxGRJz7",
        "outputId": "b896f5d9-eeda-4c3e-b286-b02281055f93"
      },
      "execution_count": 144,
      "outputs": [
        {
          "output_type": "stream",
          "name": "stdout",
          "text": [
            "Found 952 images belonging to 10 classes.\n",
            "30/30 [==============================] - 81s 636ms/step\n",
            "Accuracy for classes (0, 9): 0.9810924369747899\n",
            "Confusion Matrix for classes (0, 9):\n",
            "[[  1   0   0   0   0   0   0   0   0   0]\n",
            " [  0 692   0   0   0   0   2   0   0   0]\n",
            " [  0   0   5   0   0   0   0   0   0   2]\n",
            " [  0   0   0  14   0   0   0   0   0   0]\n",
            " [  0   0   0   0  46   0   0   0   3   0]\n",
            " [  0   1   0   0   0   5   0   0   0   0]\n",
            " [  0   6   0   0   1   0 126   0   3   0]\n",
            " [  0   0   0   0   0   0   0  18   0   0]\n",
            " [  0   0   0   0   0   0   0   0  11   0]\n",
            " [  0   0   0   0   0   0   0   0   0  16]]\n",
            "                             precision    recall  f1-score   support\n",
            "\n",
            "          Amylax_triacantha       1.00      1.00      1.00         1\n",
            "    Aphanizomenon_flosaquae       0.99      1.00      0.99       694\n",
            "Aphanothece_paralleliformis       1.00      0.71      0.83         7\n",
            "                      Beads       1.00      1.00      1.00        14\n",
            "               Centrales_sp       0.98      0.94      0.96        49\n",
            "      Ceratoneis_closterium       1.00      0.83      0.91         6\n",
            "             Chaetoceros_sp       0.98      0.93      0.95       136\n",
            "      Chaetoceros_sp_single       1.00      1.00      1.00        18\n",
            "             Chlorococcales       0.65      1.00      0.79        11\n",
            "              Chroococcales       0.89      1.00      0.94        16\n",
            "\n",
            "                   accuracy                           0.98       952\n",
            "                  macro avg       0.95      0.94      0.94       952\n",
            "               weighted avg       0.98      0.98      0.98       952\n",
            "\n",
            "Found 2535 images belonging to 10 classes.\n",
            "80/80 [==============================] - 51s 610ms/step\n",
            "Accuracy for classes (10, 19): 0.927810650887574\n",
            "Confusion Matrix for classes (10, 19):\n",
            "[[  70    0    0    0    0    0    0    0   12    0]\n",
            " [   0   13    0    0    0    0    4    3    0    4]\n",
            " [   0    0    3   57    0    0    0    0    0    0]\n",
            " [   0    0    0  730    0    0    0    0    2    0]\n",
            " [   0    0    0    3    2    0    0    0    7    0]\n",
            " [   0    0    0   16    0    4    0    0    0    0]\n",
            " [   0    0    0   25    0    1  115    0    0    3]\n",
            " [   0    1    0    0    0    0    0   23    0    1]\n",
            " [   1    0    2    1    1    0    1    0 1167   36]\n",
            " [   0    0    0    0    0    0    0    0    2  225]]\n",
            "                                    precision    recall  f1-score   support\n",
            "\n",
            "                 Chroococcus_small       0.99      0.85      0.92        82\n",
            "                           Ciliata       0.93      0.54      0.68        24\n",
            "                   Cryptomonadales       0.60      0.05      0.09        60\n",
            "           Cryptophyceae-Teleaulax       0.88      1.00      0.93       732\n",
            "      Cyclotella_choctawhatcheeana       0.67      0.17      0.27        12\n",
            "        Cymbomonas_tetramitiformis       0.80      0.20      0.32        20\n",
            "                       Dinophyceae       0.96      0.80      0.87       144\n",
            "              Dinophysis_acuminata       0.88      0.92      0.90        25\n",
            "       Dolichospermum-Anabaenopsis       0.98      0.97      0.97      1209\n",
            "Dolichospermum-Anabaenopsis-coiled       0.84      0.99      0.91       227\n",
            "\n",
            "                          accuracy                           0.93      2535\n",
            "                         macro avg       0.85      0.65      0.69      2535\n",
            "                      weighted avg       0.92      0.93      0.92      2535\n",
            "\n",
            "Found 688 images belonging to 10 classes.\n",
            "22/22 [==============================] - 15s 663ms/step\n",
            "Accuracy for classes (20, 29): 0.8343023255813954\n",
            "Confusion Matrix for classes (20, 29):\n",
            "[[  7   5   0   0   0   0   1   0   0   0]\n",
            " [  0 223   0   0   0   0   1   0   0   0]\n",
            " [  0   0   0   0   0   0   1   0   0   0]\n",
            " [  0   5   0   0   0   0   2   0   0   0]\n",
            " [  0   0   0   0   0   0  11   0   0   0]\n",
            " [  0  52   0   0   0   2  20   0   0   0]\n",
            " [  0   0   0   0   0   0 321   0   0   0]\n",
            " [  0   8   0   0   0   1   2  17   0   0]\n",
            " [  0   0   0   0   0   0   0   0   1   0]\n",
            " [  0   1   0   0   0   0   4   0   0   3]]\n",
            "                        precision    recall  f1-score   support\n",
            "\n",
            "        Euglenophyceae       1.00      0.54      0.70        13\n",
            "       Eutreptiella_sp       0.76      1.00      0.86       224\n",
            "      Gonyaulax_verior       0.00      0.00      0.00         1\n",
            "         Gymnodiniales       0.00      0.00      0.00         7\n",
            "      Gymnodinium_like       0.00      0.00      0.00        11\n",
            " Heterocapsa_rotundata       0.67      0.03      0.05        74\n",
            " Heterocapsa_triquetra       0.88      1.00      0.94       321\n",
            "            Heterocyte       1.00      0.61      0.76        28\n",
            "Katablepharis_remigera       1.00      1.00      1.00         1\n",
            "         Licmophora_sp       1.00      0.38      0.55         8\n",
            "\n",
            "              accuracy                           0.83       688\n",
            "             macro avg       0.63      0.45      0.49       688\n",
            "          weighted avg       0.80      0.83      0.78       688\n",
            "\n"
          ]
        },
        {
          "output_type": "stream",
          "name": "stderr",
          "text": [
            "/usr/local/lib/python3.10/dist-packages/sklearn/metrics/_classification.py:1344: UndefinedMetricWarning: Precision and F-score are ill-defined and being set to 0.0 in labels with no predicted samples. Use `zero_division` parameter to control this behavior.\n",
            "  _warn_prf(average, modifier, msg_start, len(result))\n",
            "/usr/local/lib/python3.10/dist-packages/sklearn/metrics/_classification.py:1344: UndefinedMetricWarning: Precision and F-score are ill-defined and being set to 0.0 in labels with no predicted samples. Use `zero_division` parameter to control this behavior.\n",
            "  _warn_prf(average, modifier, msg_start, len(result))\n",
            "/usr/local/lib/python3.10/dist-packages/sklearn/metrics/_classification.py:1344: UndefinedMetricWarning: Precision and F-score are ill-defined and being set to 0.0 in labels with no predicted samples. Use `zero_division` parameter to control this behavior.\n",
            "  _warn_prf(average, modifier, msg_start, len(result))\n"
          ]
        },
        {
          "output_type": "stream",
          "name": "stdout",
          "text": [
            "Found 745 images belonging to 10 classes.\n",
            "24/24 [==============================] - 16s 581ms/step\n",
            "Accuracy for classes (30, 39): 0.9221476510067114\n",
            "Confusion Matrix for classes (30, 39):\n",
            "[[  3   2   0   0   0   0   0   0   0   0]\n",
            " [  0  13   0   0   0   0   0   0   0   0]\n",
            " [  0   3 117   0   0   2   2   0   0   0]\n",
            " [  0   0   0   0   0   0   0  33   0   0]\n",
            " [  0   0   0   0   7   0   0   0   0   0]\n",
            " [  0   0   0   0   0  13   0   0   0   0]\n",
            " [  0   6   3   0   0   0  78   0   0   5]\n",
            " [  0   0   0   0   0   0   0 423   0   0]\n",
            " [  0   0   0   0   0   0   0   0  11   0]\n",
            " [  0   0   0   0   0   0   0   2   0  22]]\n",
            "                         precision    recall  f1-score   support\n",
            "\n",
            "       Melosira_arctica       1.00      0.60      0.75         5\n",
            "        Merismopedia_sp       0.54      1.00      0.70        13\n",
            "      Mesodinium_rubrum       0.97      0.94      0.96       124\n",
            "Monoraphidium_contortum       0.00      0.00      0.00        33\n",
            "     Nitzschia_paleacea       1.00      1.00      1.00         7\n",
            "    Nodularia_spumigena       0.87      1.00      0.93        13\n",
            "            Oocystis_sp       0.97      0.85      0.91        92\n",
            "        Oscillatoriales       0.92      1.00      0.96       423\n",
            "     Pauliella_taeniata       1.00      1.00      1.00        11\n",
            "      Pennales_sp_thick       0.81      0.92      0.86        24\n",
            "\n",
            "               accuracy                           0.92       745\n",
            "              macro avg       0.81      0.83      0.81       745\n",
            "           weighted avg       0.89      0.92      0.90       745\n",
            "\n"
          ]
        },
        {
          "output_type": "stream",
          "name": "stderr",
          "text": [
            "/usr/local/lib/python3.10/dist-packages/sklearn/metrics/_classification.py:1344: UndefinedMetricWarning: Precision and F-score are ill-defined and being set to 0.0 in labels with no predicted samples. Use `zero_division` parameter to control this behavior.\n",
            "  _warn_prf(average, modifier, msg_start, len(result))\n",
            "/usr/local/lib/python3.10/dist-packages/sklearn/metrics/_classification.py:1344: UndefinedMetricWarning: Precision and F-score are ill-defined and being set to 0.0 in labels with no predicted samples. Use `zero_division` parameter to control this behavior.\n",
            "  _warn_prf(average, modifier, msg_start, len(result))\n",
            "/usr/local/lib/python3.10/dist-packages/sklearn/metrics/_classification.py:1344: UndefinedMetricWarning: Precision and F-score are ill-defined and being set to 0.0 in labels with no predicted samples. Use `zero_division` parameter to control this behavior.\n",
            "  _warn_prf(average, modifier, msg_start, len(result))\n"
          ]
        },
        {
          "output_type": "stream",
          "name": "stdout",
          "text": [
            "Found 1389 images belonging to 10 classes.\n",
            "44/44 [==============================] - 26s 570ms/step\n",
            "Accuracy for classes (40, 49): 0.8394528437724982\n",
            "Confusion Matrix for classes (40, 49):\n",
            "[[ 87   0   0   0   0   0   0   0   0   0]\n",
            " [  0  19   0   0   0   0   0   2   0   0]\n",
            " [  0   0  47   0   0   0   0  31   2   0]\n",
            " [  0   0   1  20   0   0   0   1  11   0]\n",
            " [  0   0   0   0   0   4   0   0  37   0]\n",
            " [  0   0   0   0   0   5   1   0 115   0]\n",
            " [  0   0   0   0   0   0 401   0   0   1]\n",
            " [  0   0   0   0   0   0   0 309   0   0]\n",
            " [  0   0   0   0   0   0   0   0 252   0]\n",
            " [  0   0   0   0   0   2   7   0   8  26]]\n",
            "                              precision    recall  f1-score   support\n",
            "\n",
            "            Pennales_sp_thin       1.00      1.00      1.00        87\n",
            " Peridiniella_catenata_chain       1.00      0.90      0.95        21\n",
            "Peridiniella_catenata_single       0.98      0.59      0.73        80\n",
            "       Prorocentrum_cordatum       1.00      0.61      0.75        33\n",
            "          Pseudopedinella_sp       0.00      0.00      0.00        41\n",
            "              Pyramimonas_sp       0.45      0.04      0.08       121\n",
            "         Skeletonema_marinoi       0.98      1.00      0.99       402\n",
            "       Snowella-Woronichinia       0.90      1.00      0.95       309\n",
            "     Thalassiosira_levanderi       0.59      1.00      0.74       252\n",
            "             Uroglenopsis_sp       0.96      0.60      0.74        43\n",
            "\n",
            "                    accuracy                           0.84      1389\n",
            "                   macro avg       0.79      0.67      0.69      1389\n",
            "                weighted avg       0.82      0.84      0.80      1389\n",
            "\n"
          ]
        },
        {
          "output_type": "stream",
          "name": "stderr",
          "text": [
            "/usr/local/lib/python3.10/dist-packages/sklearn/metrics/_classification.py:1344: UndefinedMetricWarning: Precision and F-score are ill-defined and being set to 0.0 in labels with no predicted samples. Use `zero_division` parameter to control this behavior.\n",
            "  _warn_prf(average, modifier, msg_start, len(result))\n",
            "/usr/local/lib/python3.10/dist-packages/sklearn/metrics/_classification.py:1344: UndefinedMetricWarning: Precision and F-score are ill-defined and being set to 0.0 in labels with no predicted samples. Use `zero_division` parameter to control this behavior.\n",
            "  _warn_prf(average, modifier, msg_start, len(result))\n",
            "/usr/local/lib/python3.10/dist-packages/sklearn/metrics/_classification.py:1344: UndefinedMetricWarning: Precision and F-score are ill-defined and being set to 0.0 in labels with no predicted samples. Use `zero_division` parameter to control this behavior.\n",
            "  _warn_prf(average, modifier, msg_start, len(result))\n"
          ]
        }
      ]
    },
    {
      "cell_type": "code",
      "source": [
        "# Ensure your test_generator doesn't shuffle data to match true labels with predictions\n",
        "test_generator.shuffle = False\n",
        "test_generator.reset()\n",
        "\n",
        "# Predict using the model\n",
        "predictions = model.predict(test_generator, steps=np.ceil(test_generator.samples/test_generator.batch_size))\n",
        "\n",
        "# Convert softmax output to predicted class indices\n",
        "predicted_class_indices = np.argmax(predictions, axis=1)\n",
        "\n",
        "# Map predicted class indices to class labels\n",
        "labels = (test_generator.class_indices)\n",
        "labels = dict((v, k) for k, v in labels.items())\n",
        "predicted_labels = [labels[k] for k in predicted_class_indices]\n",
        "\n",
        "# Get true labels from the generator\n",
        "true_labels = test_generator.classes\n",
        "# Optionally, map true labels from indices to class names if needed\n",
        "true_labels = [labels[k] for k in true_labels]\n",
        "\n",
        "# Calculate accuracy\n",
        "accuracy = np.sum(np.array(predicted_labels) == np.array(true_labels)) / len(predicted_labels)\n",
        "\n",
        "print(f\"Accuracy: {accuracy}\")\n"
      ],
      "metadata": {
        "colab": {
          "base_uri": "https://localhost:8080/"
        },
        "id": "wsTwrZRZypdU",
        "outputId": "6eb7aafc-73d9-44fc-a096-7e70d0bffb2d"
      },
      "execution_count": 120,
      "outputs": [
        {
          "output_type": "stream",
          "name": "stdout",
          "text": [
            "30/30 [==============================] - 21s 650ms/step\n",
            "Accuracy: 0.9737394957983193\n"
          ]
        }
      ]
    },
    {
      "cell_type": "code",
      "execution_count": 121,
      "metadata": {
        "colab": {
          "base_uri": "https://localhost:8080/",
          "height": 872
        },
        "id": "1i9LVCPcLLdE",
        "outputId": "1032622e-bc96-44f0-975f-16c406b99b2a"
      },
      "outputs": [
        {
          "output_type": "display_data",
          "data": {
            "text/plain": [
              "<Figure size 1000x1000 with 2 Axes>"
            ],
            "image/png": "[encoded data removed]"
          },
          "metadata": {}
        }
      ],
      "source": [
        "# Generate the confusion matrix\n",
        "cm = confusion_matrix(true_labels, predicted_labels)\n",
        "\n",
        "# Plot the confusion matrix using seaborn for better visualization\n",
        "plt.figure(figsize=(10, 10))\n",
        "sns.heatmap(cm, annot=True, fmt='d', cmap='Blues')\n",
        "plt.title('Confusion Matrix')\n",
        "plt.ylabel('True Label')\n",
        "plt.xlabel('Predicted Label')\n",
        "plt.show()\n"
      ]
    },
    {
      "cell_type": "code",
      "execution_count": 122,
      "metadata": {
        "colab": {
          "base_uri": "https://localhost:8080/"
        },
        "id": "Q6kPXxfkMZHl",
        "outputId": "802cdbfe-d110-4523-f5a9-9c0496495365"
      },
      "outputs": [
        {
          "output_type": "stream",
          "name": "stdout",
          "text": [
            "                             precision    recall  f1-score   support\n",
            "\n",
            "          Amylax_triacantha       1.00      1.00      1.00         1\n",
            "    Aphanizomenon_flosaquae       0.98      1.00      0.99       694\n",
            "Aphanothece_paralleliformis       1.00      0.86      0.92         7\n",
            "                      Beads       0.93      1.00      0.97        14\n",
            "               Centrales_sp       0.96      0.96      0.96        49\n",
            "      Ceratoneis_closterium       1.00      0.67      0.80         6\n",
            "             Chaetoceros_sp       1.00      0.86      0.92       136\n",
            "      Chaetoceros_sp_single       0.86      1.00      0.92        18\n",
            "             Chlorococcales       0.73      1.00      0.85        11\n",
            "              Chroococcales       0.94      0.94      0.94        16\n",
            "\n",
            "                   accuracy                           0.97       952\n",
            "                  macro avg       0.94      0.93      0.93       952\n",
            "               weighted avg       0.98      0.97      0.97       952\n",
            "\n"
          ]
        }
      ],
      "source": [
        "report = classification_report(true_labels, predicted_labels, target_names=test_generator.class_indices.keys())\n",
        "print(report)"
      ]
    }
  ],
  "metadata": {
    "colab": {
      "provenance": []
    },
    "kernelspec": {
      "display_name": "Python 3",
      "name": "python3"
    },
    "language_info": {
      "name": "python",
      "version": "3.10.12"
    }
  },
  "nbformat": 4,
  "nbformat_minor": 0
}